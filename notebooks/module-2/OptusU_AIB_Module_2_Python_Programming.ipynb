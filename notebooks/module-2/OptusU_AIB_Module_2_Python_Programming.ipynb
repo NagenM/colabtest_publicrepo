{
  "nbformat": 4,
  "nbformat_minor": 0,
  "metadata": {
    "colab": {
      "provenance": [],
      "collapsed_sections": []
    },
    "kernelspec": {
      "name": "python3",
      "display_name": "Python 3"
    }
  },
  "cells": [
    {
      "cell_type": "markdown",
      "metadata": {
        "id": "yEPIrKRwwfgE"
      },
      "source": [
        "## **Python Programming for AI**\n",
        "\n",
        "Python is a popular general-purpose programming language known for its  simplified syntax and powerful utility. Data enthusiasts and organisations from across the world use Python to explore and analyse their data. This course module focuses on Python specifically working with data and specifically in the Google Colab environment. Here you will learn how to store and manipulate data to power your analyses through Python and Google Colab.\n",
        "\n",
        "So why is it called Python, naming a programming language after a dangerous constrictor hardly seems appropriate. It seems the creator Guido van Rossum while conceptualising the programming language was also reading the published scripts from “Monty Python’s Flying Circus” (a BBC comedy series from the 1970s. So by that inspiration named the language Python. ([Reference](https://docs.python.org/3/faq/general.html#id19))\n"
      ]
    },
    {
      "cell_type": "markdown",
      "metadata": {
        "id": "tB5Z_ffFym-G"
      },
      "source": [
        "As is customary for starting up in any programming language, let's begin by writing some text to the screen. For this purpose you are going to make use of the `print` command.\n",
        "\n",
        "*How to run this script` - Click on Run or press [Shift key] + [Enter key] to execute each line of code.*"
      ]
    },
    {
      "cell_type": "code",
      "metadata": {
        "id": "yG7gUje3xcGp",
        "colab": {
          "base_uri": "https://localhost:8080/"
        },
        "outputId": "b08ba9d0-ae06-42bb-dc92-aace892c4709"
      },
      "source": [
        "print(\"Hello! Welcome to Python.\")"
      ],
      "execution_count": 1,
      "outputs": [
        {
          "output_type": "stream",
          "name": "stdout",
          "text": [
            "Hello! Welcome to Python.\n"
          ]
        }
      ]
    },
    {
      "cell_type": "markdown",
      "metadata": {
        "id": "4h5uoAStnqTN"
      },
      "source": [
        "You can also add comments to your code which allow you to document your intentions to both your future self and others who might choose to work with your code in the future. A general rule of thumb is to use comments to lay out what you are hoping to achieve with your code before you jumping into any programming. Try to avoid stating the obvious but instead outline your intentions for the line or block of code."
      ]
    },
    {
      "cell_type": "code",
      "metadata": {
        "id": "6Loed1mfy0DI"
      },
      "source": [
        "# Indicate to the user that the program has started by printing out a welcome message."
      ],
      "execution_count": 2,
      "outputs": []
    },
    {
      "cell_type": "markdown",
      "metadata": {
        "id": "C8cPLUeSwo7z"
      },
      "source": [
        "## Variables\n",
        "\n",
        "Variables allow you store data that you are working on as your work through your notebook.\n",
        "\n",
        "It is preferred to have descriptive names for variables, (such as age, name, total_sales), instead of single letters or less meaningful names (such as a, b, x etc.)  \n",
        "\n",
        "The following are some rules for variables in Python:  \n",
        "\n",
        "1. A variable name must start with a letter or the underscore character  \n",
        "2. A variable name cannot start with a number  \n",
        "3. A variable name can only contain alpha-numeric characters and underscores (A-z, 0-9, and _ )  \n",
        "4. Variable names are case-sensitive (age, Age and AGE are three different variables)\n",
        "\n",
        "### Coding Standards and Naming Conventions\n",
        "\n",
        "In addition to this it is recommended to follow a naming convention when working with any programming language. There are various conventions in use these are two which are popular.\n",
        "\n",
        "1. Python's own [coding standards](https://www.python.org/dev/peps/pep-0008/), [this section](https://www.python.org/dev/peps/pep-0008/#function-and-variable-names) talks specifically to function and variable naming.\n",
        "2. Google's [coding standards](https://google.github.io/styleguide/pyguide.html), [this section](https://google.github.io/styleguide/pyguide.html#3163-file-naming) talks specifically to function and variable naming.\n",
        "\n",
        "*Both 1) & 2) prescribe lowercase with underscore for separators in the case of function (to be discussed further down in the section) and variable naming. But if you are defining constants make use of capital casing.*\n",
        "\n",
        "\n",
        "Ok back to variables, let's work through the process of converting a temperature from Farenheit to Celsius to illustrate further. The conversion is as follows;\n",
        "\n",
        "\\begin{equation}\n",
        "Celsius^{\\circ} = \\frac{5}{9} (Farenheit ^{\\circ} - 32) \n",
        "\\end{equation}"
      ]
    },
    {
      "cell_type": "code",
      "metadata": {
        "id": "OaBMpjN-y_M8",
        "colab": {
          "base_uri": "https://localhost:8080/"
        },
        "outputId": "ec04e836-1f1e-4d17-dcbf-fab0f52fc8aa"
      },
      "source": [
        "# setup constants for the equation\n",
        "DEDUCTOR = 32\n",
        "MULTIPLIER = 5/9\n",
        "\n",
        "# setup the value to be converted\n",
        "farenheit_value = 100\n",
        "\n",
        "# setup text for displaying the information\n",
        "initial_message = 'The value you are converting from Farenheit to Celsius is:'\n",
        "final_message = 'The equivalent Celsius value of this is:'\n",
        "\n",
        "# define the equation and store the celsius equivalent\n",
        "celsius_equivalent_value = (farenheit_value-DEDUCTOR)*MULTIPLIER\n",
        "\n",
        "# display our calculation\n",
        "print(initial_message)\n",
        "print(farenheit_value)\n",
        "print(final_message)\n",
        "print(celsius_equivalent_value)"
      ],
      "execution_count": 3,
      "outputs": [
        {
          "output_type": "stream",
          "name": "stdout",
          "text": [
            "The value you are converting from Farenheit to Celsius is:\n",
            "100\n",
            "The equivalent Celsius value of this is:\n",
            "37.77777777777778\n"
          ]
        }
      ]
    },
    {
      "cell_type": "markdown",
      "metadata": {
        "id": "ehi7UpSZea_F"
      },
      "source": [
        "*Exercise: can you lookup how to restrict the number of decimal points?*\n",
        "\n",
        "We had spoken about Python's dynamic typing. let's have a look at our variables from our example above and see what type they have been initialised as."
      ]
    },
    {
      "cell_type": "code",
      "metadata": {
        "colab": {
          "base_uri": "https://localhost:8080/"
        },
        "id": "X0EH1AOaeY5e",
        "outputId": "9907a1a7-5c7e-44ad-9cc4-1f276d18771d"
      },
      "source": [
        "print(type(farenheit_value))\n",
        "print(type(celsius_equivalent_value))\n",
        "print(type(final_message))"
      ],
      "execution_count": 4,
      "outputs": [
        {
          "output_type": "stream",
          "name": "stdout",
          "text": [
            "<class 'int'>\n",
            "<class 'float'>\n",
            "<class 'str'>\n"
          ]
        }
      ]
    },
    {
      "cell_type": "markdown",
      "metadata": {
        "id": "ee8UEELBfGRw"
      },
      "source": [
        "In our temperature conversion example above one thing we can notice is that the resulting value is a decimal value. Let's say we want to make it a integer value, we can achieve this using type casting. This will work for other conversion as well, such as int to string, string to float etc. If the cast is not possible an error will be thrown.\n",
        "\n",
        "*Excercise: can you look at how to convert an number written as a string to an int*"
      ]
    },
    {
      "cell_type": "code",
      "metadata": {
        "id": "pkfYTCfWzSev",
        "colab": {
          "base_uri": "https://localhost:8080/"
        },
        "outputId": "d8cc5cef-2510-464f-a5f8-78960158f31e"
      },
      "source": [
        "# Casting / Changing variable type\n",
        "celsius_equivalent_value = int(celsius_equivalent_value)\n",
        "\n",
        "print(celsius_equivalent_value)\n",
        "print(type(celsius_equivalent_value))"
      ],
      "execution_count": 5,
      "outputs": [
        {
          "output_type": "stream",
          "name": "stdout",
          "text": [
            "37\n",
            "<class 'int'>\n"
          ]
        }
      ]
    },
    {
      "cell_type": "markdown",
      "metadata": {
        "id": "qpocDXGVgLQ5"
      },
      "source": [
        "## Operations\n",
        "\n",
        "As discussed in the lecture, programming (in any language) has several high-level \"operations\". We discuss them below."
      ]
    },
    {
      "cell_type": "markdown",
      "metadata": {
        "id": "CEjQBR4PwuT1"
      },
      "source": [
        "### Assignment and Operators"
      ]
    },
    {
      "cell_type": "markdown",
      "metadata": {
        "id": "4qsx2B0t1Gw-"
      },
      "source": [
        "1. Arithmetic operators"
      ]
    },
    {
      "cell_type": "code",
      "metadata": {
        "id": "lcdprWP80Z27"
      },
      "source": [
        "x = 29\n",
        "y = 6"
      ],
      "execution_count": 6,
      "outputs": []
    },
    {
      "cell_type": "code",
      "metadata": {
        "id": "xLyQoGJp1VDF",
        "colab": {
          "base_uri": "https://localhost:8080/"
        },
        "outputId": "19b13fc8-b79a-440c-e1d9-6d9861c90c69"
      },
      "source": [
        "# Addition\n",
        "z = x + y\n",
        "print(z)"
      ],
      "execution_count": 7,
      "outputs": [
        {
          "output_type": "stream",
          "name": "stdout",
          "text": [
            "35\n"
          ]
        }
      ]
    },
    {
      "cell_type": "code",
      "metadata": {
        "id": "ILRg9ONF1cKM",
        "colab": {
          "base_uri": "https://localhost:8080/"
        },
        "outputId": "99c07b63-10cc-494d-91f4-2de374bd364a"
      },
      "source": [
        "# Subtraction\n",
        "z = x - y\n",
        "print(z)"
      ],
      "execution_count": 8,
      "outputs": [
        {
          "output_type": "stream",
          "name": "stdout",
          "text": [
            "23\n"
          ]
        }
      ]
    },
    {
      "cell_type": "code",
      "metadata": {
        "id": "kSMsYpsx1fWy",
        "colab": {
          "base_uri": "https://localhost:8080/"
        },
        "outputId": "69b3aad1-1d43-46a1-a7a7-4b5ee7e09c4a"
      },
      "source": [
        "# Multiplication\n",
        "z = x * y\n",
        "print(z)"
      ],
      "execution_count": 9,
      "outputs": [
        {
          "output_type": "stream",
          "name": "stdout",
          "text": [
            "174\n"
          ]
        }
      ]
    },
    {
      "cell_type": "code",
      "metadata": {
        "id": "pkP_ReZu1txW",
        "colab": {
          "base_uri": "https://localhost:8080/"
        },
        "outputId": "9d89f3f9-0466-4ff0-828b-629c4e9d9a8e"
      },
      "source": [
        "# Division\n",
        "z = x / y\n",
        "print(z)"
      ],
      "execution_count": 10,
      "outputs": [
        {
          "output_type": "stream",
          "name": "stdout",
          "text": [
            "4.833333333333333\n"
          ]
        }
      ]
    },
    {
      "cell_type": "code",
      "metadata": {
        "id": "DBVjGy0-1x53",
        "colab": {
          "base_uri": "https://localhost:8080/"
        },
        "outputId": "5587a5d3-997a-4547-c4a3-279ace10b3ce"
      },
      "source": [
        "# Modulus\n",
        "z = 10 % 3\n",
        "print(z)"
      ],
      "execution_count": 11,
      "outputs": [
        {
          "output_type": "stream",
          "name": "stdout",
          "text": [
            "1\n"
          ]
        }
      ]
    },
    {
      "cell_type": "code",
      "metadata": {
        "id": "p63EQhzU150f",
        "colab": {
          "base_uri": "https://localhost:8080/"
        },
        "outputId": "4a179be7-14cf-453d-949e-bc278b5cd61f"
      },
      "source": [
        "# Exponentiation\n",
        "z = 4 ** 2\n",
        "print(z)"
      ],
      "execution_count": 12,
      "outputs": [
        {
          "output_type": "stream",
          "name": "stdout",
          "text": [
            "16\n"
          ]
        }
      ]
    },
    {
      "cell_type": "markdown",
      "metadata": {
        "id": "82fccz1f2Gjj"
      },
      "source": [
        "2. Comparison Operators"
      ]
    },
    {
      "cell_type": "code",
      "metadata": {
        "id": "m6tJmid62BCK",
        "colab": {
          "base_uri": "https://localhost:8080/"
        },
        "outputId": "e3fc8ac5-7057-47cd-b504-bbc3a0f0eab0"
      },
      "source": [
        "4 == 4"
      ],
      "execution_count": 13,
      "outputs": [
        {
          "output_type": "execute_result",
          "data": {
            "text/plain": [
              "True"
            ]
          },
          "metadata": {},
          "execution_count": 13
        }
      ]
    },
    {
      "cell_type": "code",
      "metadata": {
        "id": "hjaP34tg2OON",
        "colab": {
          "base_uri": "https://localhost:8080/"
        },
        "outputId": "5389273a-6b22-4bc2-fea7-0c2f8afc88b6"
      },
      "source": [
        "8 != 9"
      ],
      "execution_count": 14,
      "outputs": [
        {
          "output_type": "execute_result",
          "data": {
            "text/plain": [
              "True"
            ]
          },
          "metadata": {},
          "execution_count": 14
        }
      ]
    },
    {
      "cell_type": "code",
      "metadata": {
        "id": "2SXyaQWN2Qys",
        "colab": {
          "base_uri": "https://localhost:8080/"
        },
        "outputId": "e3304682-0c00-4a40-fe40-2b78c4b15bf2"
      },
      "source": [
        "4 > 3 and 7 < 9"
      ],
      "execution_count": 15,
      "outputs": [
        {
          "output_type": "execute_result",
          "data": {
            "text/plain": [
              "True"
            ]
          },
          "metadata": {},
          "execution_count": 15
        }
      ]
    },
    {
      "cell_type": "code",
      "metadata": {
        "id": "HFxMIGl-2aVn",
        "colab": {
          "base_uri": "https://localhost:8080/"
        },
        "outputId": "2eca4c83-c6be-4bd5-883c-1f608b0abc1d"
      },
      "source": [
        "3 > 4 and 7 < 9"
      ],
      "execution_count": 16,
      "outputs": [
        {
          "output_type": "execute_result",
          "data": {
            "text/plain": [
              "False"
            ]
          },
          "metadata": {},
          "execution_count": 16
        }
      ]
    },
    {
      "cell_type": "code",
      "metadata": {
        "id": "Xdt1iBOh2d56",
        "colab": {
          "base_uri": "https://localhost:8080/"
        },
        "outputId": "133f8e9c-9929-4b78-826a-aa685fb2156e"
      },
      "source": [
        "3 > 4 or 7 < 9"
      ],
      "execution_count": 17,
      "outputs": [
        {
          "output_type": "execute_result",
          "data": {
            "text/plain": [
              "True"
            ]
          },
          "metadata": {},
          "execution_count": 17
        }
      ]
    },
    {
      "cell_type": "markdown",
      "metadata": {
        "id": "fyNvKs_kxTiY"
      },
      "source": [
        "### Conditions"
      ]
    },
    {
      "cell_type": "code",
      "metadata": {
        "id": "QqTxaAKV4Gq4",
        "colab": {
          "base_uri": "https://localhost:8080/"
        },
        "outputId": "8bb9fadd-dc91-4424-9a9d-abc737b42114"
      },
      "source": [
        "a = 200\n",
        "b = 33\n",
        "if b > a:\n",
        "  print(\"b is greater than a\")\n",
        "elif a == b:\n",
        "  print(\"a and b are equal\")\n",
        "else:\n",
        "  print(\"a is greater than b\")"
      ],
      "execution_count": 18,
      "outputs": [
        {
          "output_type": "stream",
          "name": "stdout",
          "text": [
            "a is greater than b\n"
          ]
        }
      ]
    },
    {
      "cell_type": "markdown",
      "metadata": {
        "id": "1i_akla9xXhO"
      },
      "source": [
        "###  Iterators"
      ]
    },
    {
      "cell_type": "code",
      "metadata": {
        "colab": {
          "base_uri": "https://localhost:8080/"
        },
        "id": "rwQmsqFI-n4P",
        "outputId": "2cf94980-714c-44b9-d6dd-684822c5832b"
      },
      "source": [
        "y = [1, 2, 3] # list of numbers\n",
        "for x in y:\n",
        "  print(x)"
      ],
      "execution_count": 19,
      "outputs": [
        {
          "output_type": "stream",
          "name": "stdout",
          "text": [
            "1\n",
            "2\n",
            "3\n"
          ]
        }
      ]
    },
    {
      "cell_type": "code",
      "metadata": {
        "id": "7nev7na74gGH",
        "colab": {
          "base_uri": "https://localhost:8080/"
        },
        "outputId": "5dd8f007-1d1e-41f9-ad51-ff8fda111a5c"
      },
      "source": [
        "for x in range(6):  # Range(): range(start, stop, step)\n",
        "  print(x)"
      ],
      "execution_count": 20,
      "outputs": [
        {
          "output_type": "stream",
          "name": "stdout",
          "text": [
            "0\n",
            "1\n",
            "2\n",
            "3\n",
            "4\n",
            "5\n"
          ]
        }
      ]
    },
    {
      "cell_type": "code",
      "metadata": {
        "id": "ZTEqvLzO4wTD",
        "colab": {
          "base_uri": "https://localhost:8080/"
        },
        "outputId": "e01805f7-d6a0-4834-f824-d5099fb880d3"
      },
      "source": [
        "for x in range(2, 30, 3):\n",
        "  print(x)"
      ],
      "execution_count": 21,
      "outputs": [
        {
          "output_type": "stream",
          "name": "stdout",
          "text": [
            "2\n",
            "5\n",
            "8\n",
            "11\n",
            "14\n",
            "17\n",
            "20\n",
            "23\n",
            "26\n",
            "29\n"
          ]
        }
      ]
    },
    {
      "cell_type": "markdown",
      "metadata": {
        "id": "Rztfy9W3xdGG"
      },
      "source": [
        "## Functions\n",
        "\n",
        "As you noticed in our temperature conversion example above we have written it out in a sequence of programming instructions. If we were to perform this conversion for another value, then we would needed to write them out all again. Clearly this is not practical and this is where functions come in. Functions are reusable blocks of code that an be written to perform an action or sequence of actions. In Python functions are defined by using the keyword `def`.\n",
        "\n",
        "In general in keeping with a principle called the [Single Responsibility Principle (SRP)](https://en.wikipedia.org/wiki/Single-responsibility_principle) it is beneficial to have your function responsiple for a single action. This is generally applied to classes and modules but they are just as effective when considering functions as well.\n",
        "\n",
        "Generally you will define all of your functions right at the top of your notebook and then use them your scripts below.\n",
        "\n",
        "Let's rewrite our temperature conversion as a function."
      ]
    },
    {
      "cell_type": "code",
      "metadata": {
        "id": "eKkEvGy_4_cO"
      },
      "source": [
        "# define a function to convert a temperature from farenheit to celsius\n",
        "def convert_temperature_from_farenheit_to_celsius_with_display(farenheit_value):\n",
        "  \"\"\"\n",
        "    This function will take convert a temperature value farenheit to celsius.\n",
        "  \"\"\"\n",
        "  # setup constants for the equation\n",
        "  DEDUCTOR = 32\n",
        "  MULTIPLIER = 5/9\n",
        "\n",
        "  \"\"\" \n",
        "    Commenting out this block of code as we are now passing in the value to be \n",
        "    converted as a variable to the function.\n",
        "  \"\"\"\n",
        "  # setup the value to be converted\n",
        "  # farenheit_value = 100\n",
        "\n",
        "  # setup text for displaying the information\n",
        "  initial_message = 'The value you are converting from Farenheit to Celsius is:'\n",
        "  final_message = 'The equivalent Celsius value of this is:'\n",
        "\n",
        "  # define the equation and store the celsius equivalent\n",
        "  celsius_equivalent_value = (farenheit_value-DEDUCTOR)*MULTIPLIER\n",
        "\n",
        "  # display our calculation\n",
        "  print(initial_message)\n",
        "  print(farenheit_value)\n",
        "  print(final_message)\n",
        "  print(celsius_equivalent_value)"
      ],
      "execution_count": 22,
      "outputs": []
    },
    {
      "cell_type": "markdown",
      "metadata": {
        "id": "kTTetujZqK2b"
      },
      "source": [
        "If you were to run the above block of code you would notice that there is no output. That's because we will need to call it with a task for it to perform."
      ]
    },
    {
      "cell_type": "code",
      "metadata": {
        "id": "8D3ehynd5JZz",
        "colab": {
          "base_uri": "https://localhost:8080/"
        },
        "outputId": "f2317554-f0f5-41e2-94fd-3212380974f1"
      },
      "source": [
        "# Call our temperature conversion function with a value to convert.\n",
        "convert_temperature_from_farenheit_to_celsius_with_display(100)\n",
        "convert_temperature_from_farenheit_to_celsius_with_display(98)"
      ],
      "execution_count": 23,
      "outputs": [
        {
          "output_type": "stream",
          "name": "stdout",
          "text": [
            "The value you are converting from Farenheit to Celsius is:\n",
            "100\n",
            "The equivalent Celsius value of this is:\n",
            "37.77777777777778\n",
            "The value you are converting from Farenheit to Celsius is:\n",
            "98\n",
            "The equivalent Celsius value of this is:\n",
            "36.66666666666667\n"
          ]
        }
      ]
    },
    {
      "cell_type": "markdown",
      "metadata": {
        "id": "SxhAGKZRs3GX"
      },
      "source": [
        "*Exercise: How would you rewrite this function to reflect the Single Responsibility Principle?* \n",
        "\n",
        "Let's say we want to isolate our display tasks from our conversion task we would utilise the capability of our function to return a value."
      ]
    },
    {
      "cell_type": "code",
      "metadata": {
        "id": "rjCgzgRttFL-"
      },
      "source": [
        "def convert_temperature_from_farenheit_to_celsius(farenheit_value):\n",
        "  \"\"\"\n",
        "    This function will take convert a temperature value farenheit to celsius.\n",
        "  \"\"\"\n",
        "  # setup constants for the equation\n",
        "  DEDUCTOR = 32\n",
        "  MULTIPLIER = 5/9\n",
        "\n",
        "  # setup the value to be converted\n",
        "  # farenheit_value = 100\n",
        "\n",
        "  # setup text for displaying the information\n",
        "  initial_message = 'The value you are converting from Farenheit to Celsius is:'\n",
        "  final_message = 'The equivalent Celsius value of this is:'\n",
        "\n",
        "  # define the equation and store the celsius equivalent\n",
        "  celsius_equivalent_value = (farenheit_value-DEDUCTOR)*MULTIPLIER\n",
        "\n",
        "  \"\"\" \n",
        "    Removing our display functionality and returning our converted value back.\n",
        "  \"\"\"\n",
        "  # display our calculation\n",
        "  # print(initial_message)\n",
        "  # print(farenheit_value)\n",
        "  # print(final_message)\n",
        "  # print(celsius_equivalent_value)\n",
        "  return celsius_equivalent_value"
      ],
      "execution_count": 24,
      "outputs": []
    },
    {
      "cell_type": "markdown",
      "metadata": {
        "id": "VOqtcfGJthoG"
      },
      "source": [
        "This means our function will just calculate our conversion and give us back the converted value. Once we have the converted value we can then proceed to either display it or perform any other action on it.\n"
      ]
    },
    {
      "cell_type": "code",
      "metadata": {
        "colab": {
          "base_uri": "https://localhost:8080/"
        },
        "id": "slZNbb1LuWzo",
        "outputId": "1f19d211-5ea2-4f14-9cf9-3ee9254e2a22"
      },
      "source": [
        "celsius_value = convert_temperature_from_farenheit_to_celsius(102)\n",
        "\n",
        "# making use of the string format function to write the return value inline with the message\n",
        "print(\"The converted value is {} Celsius\".format(celsius_value)) "
      ],
      "execution_count": 25,
      "outputs": [
        {
          "output_type": "stream",
          "name": "stdout",
          "text": [
            "The converted value is 38.88888888888889 Celsius\n"
          ]
        }
      ]
    },
    {
      "cell_type": "markdown",
      "metadata": {
        "id": "vXf30c5XKHX9"
      },
      "source": [
        "*Exercise: What more improvements would you make to this program?*\n",
        "\n"
      ]
    },
    {
      "cell_type": "markdown",
      "metadata": {
        "id": "Bn82lFRt4uZa"
      },
      "source": [
        "### Lambda functions\n",
        "\n",
        "A lambda function is an anonymous function defined without a name in python. A lambda function can take any number of arguments, but can only have one expression. Given that our example above involved a single expression we can potentially make it a lambda."
      ]
    },
    {
      "cell_type": "code",
      "metadata": {
        "colab": {
          "base_uri": "https://localhost:8080/"
        },
        "id": "GRA1CPnzttGk",
        "outputId": "8c8ef9be-d90c-40d0-bbd2-69e079b41924"
      },
      "source": [
        "# writing the temperature converter as a lambda\n",
        "temperature_converter = lambda farenheit_value:(farenheit_value-32)*5/9\n",
        "\n",
        "# declare the display message once so that we can reuse it for multiple executions.\n",
        "display_message = \"The converted value is {} Celsius\"\n",
        "\n",
        "# making use of the string format function to write the return value inline with the message\n",
        "print(display_message.format(temperature_converter(100)))\n",
        "print(display_message.format(temperature_converter(104))) "
      ],
      "execution_count": 26,
      "outputs": [
        {
          "output_type": "stream",
          "name": "stdout",
          "text": [
            "The converted value is 37.77777777777778 Celsius\n",
            "The converted value is 40.0 Celsius\n"
          ]
        }
      ]
    },
    {
      "cell_type": "markdown",
      "metadata": {
        "id": "3-myFJoCGHBh"
      },
      "source": [
        "## Working with Strings\n",
        "\n",
        "Python provides a rich library for working with text. Let's look at how we can use some of these features through an example;"
      ]
    },
    {
      "cell_type": "code",
      "metadata": {
        "id": "f26GuyS9z8SK",
        "colab": {
          "base_uri": "https://localhost:8080/"
        },
        "outputId": "9435693a-76c9-47d6-b6a8-6ed9f2feaae1"
      },
      "source": [
        "# String operations\n",
        "\n",
        "a = \"Hello, World!\"\n",
        "print(a[1])\n",
        "\n",
        "b = \"Hello, World!\"\n",
        "print(b[2:5])  # indexing starts with 0\n",
        "\n",
        "c = \"   Hello, World!   \" # string with head and tail whitespaces\n",
        "print(c.strip())\n",
        "\n",
        "a = \"Hello, World!\"\n",
        "print('Length:', len(a))\n",
        "\n",
        "a = \"Hello, World!\"\n",
        "print(a.lower())\n",
        "\n",
        "a = \"Hello, World!\"\n",
        "print(a.upper())\n",
        "\n",
        "a = \"Hello, World!\"\n",
        "print(a.replace(\"H\", \"J\"))\n",
        "\n",
        "a = \"Hello, World!\"\n",
        "print(a.split(\",\")) # returns ['Hello', ' World!']"
      ],
      "execution_count": 27,
      "outputs": [
        {
          "output_type": "stream",
          "name": "stdout",
          "text": [
            "e\n",
            "llo\n",
            "Hello, World!\n",
            "Length: 13\n",
            "hello, world!\n",
            "HELLO, WORLD!\n",
            "Jello, World!\n",
            "['Hello', ' World!']\n"
          ]
        }
      ]
    },
    {
      "cell_type": "markdown",
      "metadata": {
        "id": "CDp-r6OVH23S"
      },
      "source": [
        "Let's look to deploy these skills in a practical exercise. A common use case is extracting information about a file from the filename. The filename below has the following structure;\n",
        "\n",
        "*Account Number#Date-in-format-yymmdd#Padding#Category#Company* \n",
        "\n",
        "How would we go about extracting this information?\n",
        "\n",
        "We will be making use of the datetime library to help us with the date identification. "
      ]
    },
    {
      "cell_type": "code",
      "metadata": {
        "colab": {
          "base_uri": "https://localhost:8080/"
        },
        "id": "6xRRiVbOE8ql",
        "outputId": "df086b91-a5fd-4cb1-b937-b546d4c3da85"
      },
      "source": [
        "# NGWK0M1288#21012800002000000#GLOBALM#OPTUS.zip\n",
        "filename = ' NGWK0M1288#22092000002000000#GLOBALM#OPTUS.zip'\n",
        "\n",
        "# remove the extension\n",
        "filename = filename[:-4]\n",
        "\n",
        "# remove leading and trailing whitespace\n",
        "filename = filename.strip()\n",
        "\n",
        "# split by the # delimiter\n",
        "name_parts = filename.split(\"#\")\n",
        "\n",
        "# get the date \n",
        "date_string = name_parts[1][0:6]\n",
        "\n",
        "from datetime import datetime\n",
        "\n",
        "# convert to date based on the mask\n",
        "# the definition of the format can be found here; https://strftime.org/\n",
        "date_value = datetime.strptime(date_string, '%y%m%d')\n",
        "\n",
        "name_parts[1] = str(date_value)\n",
        "print(name_parts)"
      ],
      "execution_count": 28,
      "outputs": [
        {
          "output_type": "stream",
          "name": "stdout",
          "text": [
            "['NGWK0M1288', '2022-09-20 00:00:00', 'GLOBALM', 'OPTUS']\n"
          ]
        }
      ]
    },
    {
      "cell_type": "markdown",
      "metadata": {
        "id": "j-WCC9ai_wk7"
      },
      "source": [
        "## Dates and Time\n",
        "\n",
        "The datetime library provides options to deal with date and time values. In the example below we retrieve the current time and format it the way we want. \n",
        "\n",
        "Further format options can be found at [this link](https://www.w3schools.com/python/python_datetime.asp)"
      ]
    },
    {
      "cell_type": "code",
      "metadata": {
        "colab": {
          "base_uri": "https://localhost:8080/",
          "height": 53
        },
        "id": "ErlpNscp_0jR",
        "outputId": "ac5ca2d8-2f9d-4cae-aea1-5d8fade789cc"
      },
      "source": [
        "the_time_now = datetime.now()\n",
        "print(the_time_now)\n",
        "\n",
        "the_time_now.strftime('%Y/%m/%d %H:%M:%S')"
      ],
      "execution_count": 29,
      "outputs": [
        {
          "output_type": "stream",
          "name": "stdout",
          "text": [
            "2022-09-20 01:19:23.598621\n"
          ]
        },
        {
          "output_type": "execute_result",
          "data": {
            "text/plain": [
              "'2022/09/20 01:19:23'"
            ],
            "application/vnd.google.colaboratory.intrinsic+json": {
              "type": "string"
            }
          },
          "metadata": {},
          "execution_count": 29
        }
      ]
    },
    {
      "cell_type": "markdown",
      "metadata": {
        "id": "jAszuP9_Bqwo"
      },
      "source": [
        "The following code allows you to increment time."
      ]
    },
    {
      "cell_type": "code",
      "metadata": {
        "colab": {
          "base_uri": "https://localhost:8080/"
        },
        "id": "Db_003JPBvFX",
        "outputId": "c996de7e-b04d-43e1-a67a-c7f9c1ede0a2"
      },
      "source": [
        "from datetime import timedelta\n",
        "\n",
        "t_increment = timedelta(weeks = 2, days = 5, hours = 1, seconds = 33)\n",
        "\n",
        "the_new_time = the_time_now + t_increment\n",
        "print(the_new_time)\n",
        "\n",
        "print(the_time_now - the_new_time)"
      ],
      "execution_count": 30,
      "outputs": [
        {
          "output_type": "stream",
          "name": "stdout",
          "text": [
            "2022-10-09 02:19:56.598621\n",
            "-20 days, 22:59:27\n"
          ]
        }
      ]
    },
    {
      "cell_type": "markdown",
      "metadata": {
        "id": "PEJ0UELpw1Zu"
      },
      "source": [
        "## Lists in Python\n",
        "\n",
        "So far we used a single variable to store a single value. When we want to store multiple values in a single variable, we use a \"List\". \n",
        "\n",
        "In its simplest version a list is created and initialised by placing all the values (elements) inside square brackets [] , separated by commas. \n",
        "\n",
        "A list will need to be of a single type and can have any number of items. However you can choose to store lists of different types (integers, floats, strings etc.)\n",
        "\n",
        "The examples below show you some operations that we can perform on lists in Python."
      ]
    },
    {
      "cell_type": "code",
      "metadata": {
        "id": "dWYILIUA2zMI",
        "colab": {
          "base_uri": "https://localhost:8080/"
        },
        "outputId": "6b3bf2a5-4526-4e25-b6b0-cbc033b53e75"
      },
      "source": [
        "# Let's map the geographic makeup of Micronesia(https://en.wikipedia.org/wiki/Micronesia)\n",
        "micronesia = [\"Guam \", \"Kiribati\", \"Nauru\", \"Northern Mariana Islands\", \"Palau\", \"Marshall Islands\"]  # This is a list\n",
        "\n",
        "print(micronesia) # Let's print this list out\n",
        "print(len(micronesia))  # Length of the list"
      ],
      "execution_count": 31,
      "outputs": [
        {
          "output_type": "stream",
          "name": "stdout",
          "text": [
            "['Guam ', 'Kiribati', 'Nauru', 'Northern Mariana Islands', 'Palau', 'Marshall Islands']\n",
            "6\n"
          ]
        }
      ]
    },
    {
      "cell_type": "code",
      "metadata": {
        "id": "5exyO6Ws20sE",
        "colab": {
          "base_uri": "https://localhost:8080/"
        },
        "outputId": "2163edf8-f285-4051-864d-8bf679ae7870"
      },
      "source": [
        "# It seems we are missing the Federated States of Micronesia, let's add it in\n",
        "micronesia.append(\"Federated States of Micronesia\") # Add an item to the end of the list\n",
        "print(micronesia) # print a raw version of the list"
      ],
      "execution_count": 32,
      "outputs": [
        {
          "output_type": "stream",
          "name": "stdout",
          "text": [
            "['Guam ', 'Kiribati', 'Nauru', 'Northern Mariana Islands', 'Palau', 'Marshall Islands', 'Federated States of Micronesia']\n"
          ]
        }
      ]
    },
    {
      "cell_type": "code",
      "metadata": {
        "id": "WurJEe4N22me",
        "colab": {
          "base_uri": "https://localhost:8080/"
        },
        "outputId": "15b10906-d992-4886-83b3-cbdb363c995a"
      },
      "source": [
        "# Let's insert Fiji to the 2nd position on this list\n",
        "micronesia.insert(1, \"Fiji\")   # Add an item to a specific location in the list - notice how the list index begins with 0\n",
        "print(micronesia)"
      ],
      "execution_count": 33,
      "outputs": [
        {
          "output_type": "stream",
          "name": "stdout",
          "text": [
            "['Guam ', 'Fiji', 'Kiribati', 'Nauru', 'Northern Mariana Islands', 'Palau', 'Marshall Islands', 'Federated States of Micronesia']\n"
          ]
        }
      ]
    },
    {
      "cell_type": "code",
      "metadata": {
        "id": "BIUcHWMH25T-",
        "colab": {
          "base_uri": "https://localhost:8080/"
        },
        "outputId": "b1677db8-a788-45e7-bc35-ad85338da845"
      },
      "source": [
        "# Looks like we made a mistake let's remove Fiji from this list.\n",
        "del micronesia[1]   # Delete a selected item from the list\n",
        "print(micronesia)"
      ],
      "execution_count": 34,
      "outputs": [
        {
          "output_type": "stream",
          "name": "stdout",
          "text": [
            "['Guam ', 'Kiribati', 'Nauru', 'Northern Mariana Islands', 'Palau', 'Marshall Islands', 'Federated States of Micronesia']\n"
          ]
        }
      ]
    },
    {
      "cell_type": "code",
      "metadata": {
        "id": "Ehg_n-nO27Za",
        "colab": {
          "base_uri": "https://localhost:8080/"
        },
        "outputId": "6ba59ee2-88b3-4233-d864-762ad1e17997"
      },
      "source": [
        "# Let's sort the list in reverse alphabetical order.\n",
        "micronesia = sorted(micronesia, reverse=True)\n",
        "print(micronesia)"
      ],
      "execution_count": 35,
      "outputs": [
        {
          "output_type": "stream",
          "name": "stdout",
          "text": [
            "['Palau', 'Northern Mariana Islands', 'Nauru', 'Marshall Islands', 'Kiribati', 'Guam ', 'Federated States of Micronesia']\n"
          ]
        }
      ]
    },
    {
      "cell_type": "code",
      "metadata": {
        "id": "H7Qp5wnP3Eiy",
        "colab": {
          "base_uri": "https://localhost:8080/"
        },
        "outputId": "5633eb64-15ff-4a40-daeb-812820699f21"
      },
      "source": [
        "# Let's iterate through the list and create a new list with added prefix of Micronesia to the each element\n",
        "\n",
        "micronesia_updated = []\n",
        "\n",
        "for x in micronesia:\n",
        "  micronesia_updated.append(\"Micronesia - \" + x)\n",
        "\n",
        "print(micronesia_updated)"
      ],
      "execution_count": 36,
      "outputs": [
        {
          "output_type": "stream",
          "name": "stdout",
          "text": [
            "['Micronesia - Palau', 'Micronesia - Northern Mariana Islands', 'Micronesia - Nauru', 'Micronesia - Marshall Islands', 'Micronesia - Kiribati', 'Micronesia - Guam ', 'Micronesia - Federated States of Micronesia']\n"
          ]
        }
      ]
    },
    {
      "cell_type": "markdown",
      "metadata": {
        "id": "uDXauEYL8hQZ"
      },
      "source": [
        "We can also do this using the `map` function. The map() function takes a function (a lambda in this case) and a list and applies the function to each item in that list. More formally the map() function provides a way of applying a function to every item in an iterable."
      ]
    },
    {
      "cell_type": "code",
      "metadata": {
        "colab": {
          "base_uri": "https://localhost:8080/"
        },
        "id": "AjYeGzytdep0",
        "outputId": "0411c290-2056-471d-9ea3-a71f4110ad0b"
      },
      "source": [
        "# use the map function to update each geographic element with the prefix of Micronesia\n",
        "micronesia_updated_iterable = list(map(lambda item:\"Micronesia - \" + item, micronesia))\n",
        "\n",
        "# The map function returns what is called an iterator which we are converting back to a list using the list() function\n",
        "micronesia_updated = list(micronesia_updated_iterable)\n",
        "\n",
        "print(micronesia_updated)"
      ],
      "execution_count": 37,
      "outputs": [
        {
          "output_type": "stream",
          "name": "stdout",
          "text": [
            "['Micronesia - Palau', 'Micronesia - Northern Mariana Islands', 'Micronesia - Nauru', 'Micronesia - Marshall Islands', 'Micronesia - Kiribati', 'Micronesia - Guam ', 'Micronesia - Federated States of Micronesia']\n"
          ]
        }
      ]
    },
    {
      "cell_type": "markdown",
      "metadata": {
        "id": "uhVBj3UKXrQP"
      },
      "source": [
        "*Exercise: Given a list of numbers [2, 4, 6, 8, 10] and using what you have learned, how would you raise them to their power of 2. hint: use the pow() function.*"
      ]
    },
    {
      "cell_type": "code",
      "metadata": {
        "id": "6c8Q6sFa3eri",
        "colab": {
          "base_uri": "https://localhost:8080/"
        },
        "outputId": "e81e4a92-f4c6-453a-bb02-c52e4cfae43d"
      },
      "source": [
        "# Check if Palau is grouped under Micronesia\n",
        "if \"Palau\" in micronesia:\n",
        "  print(\"Yes, 'Palau' is grouped under Micronesia.\")"
      ],
      "execution_count": 38,
      "outputs": [
        {
          "output_type": "stream",
          "name": "stdout",
          "text": [
            "Yes, 'Palau' is grouped under Micronesia.\n"
          ]
        }
      ]
    },
    {
      "cell_type": "markdown",
      "metadata": {
        "id": "cku9AHtAYilu"
      },
      "source": [
        "## Dictionaries\n",
        "\n",
        "Dictionaries are used to store values as key:value pairs. Notice how the following variable is different to a list, it records several sub-variables for a single value. You can also think of a dictionary as an address book where you find the address / email by looking up a person's name. A dictionary associate keys (name) with values (details) and provides you the opportunity to do lookups.\n"
      ]
    },
    {
      "cell_type": "code",
      "metadata": {
        "id": "uNRGl83S3je5",
        "colab": {
          "base_uri": "https://localhost:8080/"
        },
        "outputId": "b468cb77-e3ed-469f-d8e4-62b4efb93ffb"
      },
      "source": [
        "vintage_car =\t{\n",
        "  \"brand\": \"Ford\",\n",
        "  \"model\": \"Mustang\",\n",
        "  \"year\": 1964\n",
        "}\n",
        "print(vintage_car)"
      ],
      "execution_count": 39,
      "outputs": [
        {
          "output_type": "stream",
          "name": "stdout",
          "text": [
            "{'brand': 'Ford', 'model': 'Mustang', 'year': 1964}\n"
          ]
        }
      ]
    },
    {
      "cell_type": "code",
      "metadata": {
        "id": "50_GLFKt3yUx",
        "colab": {
          "base_uri": "https://localhost:8080/"
        },
        "outputId": "79acbf99-0eca-47d6-cf77-fe49b493f867"
      },
      "source": [
        "car_model = vintage_car[\"model\"]\n",
        "print(car_model)"
      ],
      "execution_count": 40,
      "outputs": [
        {
          "output_type": "stream",
          "name": "stdout",
          "text": [
            "Mustang\n"
          ]
        }
      ]
    },
    {
      "cell_type": "code",
      "metadata": {
        "id": "i5Jx1_rd30bK",
        "colab": {
          "base_uri": "https://localhost:8080/"
        },
        "outputId": "8aa80adb-63b6-40a1-a6c9-3ba1e614bdf7"
      },
      "source": [
        "vintage_car[\"year\"] = 2018\n",
        "print(vintage_car)"
      ],
      "execution_count": 41,
      "outputs": [
        {
          "output_type": "stream",
          "name": "stdout",
          "text": [
            "{'brand': 'Ford', 'model': 'Mustang', 'year': 2018}\n"
          ]
        }
      ]
    },
    {
      "cell_type": "code",
      "metadata": {
        "id": "wRMu05Av34Pl",
        "colab": {
          "base_uri": "https://localhost:8080/"
        },
        "outputId": "98f34cb4-7241-404a-9d1f-161c3dc21ba6"
      },
      "source": [
        "a_dictionary = {'Company': 'Tesla Inc', 'Stock Price': 798.15\n",
        "                , 'Movement': '+15%', 'Code': 'NASDAQ:TSLA'\n",
        "                , 'Time': 'After Hours · 15 February 2:00 pm EST'}\n",
        "\n",
        "for key, value in a_dictionary.items():\n",
        "  print(key + ':', value)"
      ],
      "execution_count": 42,
      "outputs": [
        {
          "output_type": "stream",
          "name": "stdout",
          "text": [
            "Company: Tesla Inc\n",
            "Stock Price: 798.15\n",
            "Movement: +15%\n",
            "Code: NASDAQ:TSLA\n",
            "Time: After Hours · 15 February 2:00 pm EST\n"
          ]
        }
      ]
    },
    {
      "cell_type": "markdown",
      "metadata": {
        "id": "hn4YO7eMXubX"
      },
      "source": [
        "If you were to want to represent multiple cars and their attributes you can use list of dictionaries.\n",
        "\n",
        "*Exercise:* Consider that you have been given an array of the populations of the countries represented in Micronesia in our examples above. \n",
        "\n",
        "1) How would you now convert the existing list of country / territory names to countries with their relative populations.\n",
        "\n",
        "2) How would now filter out the two largest countries / territories in this list? "
      ]
    }
  ]
}